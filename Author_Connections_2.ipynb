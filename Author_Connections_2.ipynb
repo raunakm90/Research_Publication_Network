{
 "cells": [
  {
   "cell_type": "markdown",
   "metadata": {},
   "source": [
    "# Author Connections and probabilities"
   ]
  },
  {
   "cell_type": "code",
   "execution_count": 2,
   "metadata": {
    "collapsed": false
   },
   "outputs": [
    {
     "data": {
      "text/html": [
       "<script>requirejs.config({paths: { 'plotly': ['https://cdn.plot.ly/plotly-latest.min']},});if(!window.Plotly) {{require(['plotly'],function(plotly) {window.Plotly=plotly;});}}</script>"
      ],
      "text/plain": [
       "<IPython.core.display.HTML object>"
      ]
     },
     "metadata": {},
     "output_type": "display_data"
    },
    {
     "name": "stderr",
     "output_type": "stream",
     "text": [
      "C:\\Users\\Raunak Mundada\\Anaconda2\\lib\\site-packages\\fuzzywuzzy\\fuzz.py:35: UserWarning:\n",
      "\n",
      "Using slow pure-python SequenceMatcher. Install python-Levenshtein to remove this warning\n",
      "\n"
     ]
    }
   ],
   "source": [
    "from __future__ import division\n",
    "from __future__ import print_function\n",
    "# The %... is an iPython thing, and is not part of the Python language.\n",
    "# In this case we're just telling the plotting library to draw things on\n",
    "# the notebook, instead of on a separate window.\n",
    "%matplotlib inline\n",
    "import os\n",
    "os.getcwd()\n",
    "import numpy as np\n",
    "import scipy as sp\n",
    "import matplotlib as mpl\n",
    "import matplotlib.cm as cm\n",
    "import matplotlib.pyplot as plt\n",
    "import pandas as pd\n",
    "import time\n",
    "import csv\n",
    "from collections import Counter\n",
    "pd.set_option('display.width', 500)\n",
    "pd.set_option('display.max_columns', 100)\n",
    "pd.set_option('display.notebook_repr_html', True)\n",
    "import seaborn as sns\n",
    "sns.set_style(\"whitegrid\")\n",
    "\n",
    "\n",
    "import random\n",
    "from PIL import Image\n",
    "from os import path\n",
    "from nltk.corpus import stopwords\n",
    "from scipy.misc import imread\n",
    "from sklearn.feature_extraction.stop_words import ENGLISH_STOP_WORDS\n",
    "from wordcloud import WordCloud, STOPWORDS\n",
    "\n",
    "import mysql.connector\n",
    "from mysql.connector import errorcode\n",
    "from mysql.connector import Error\n",
    "\n",
    "import plotly\n",
    "import networkx as nx\n",
    "from plotly.offline import download_plotlyjs, init_notebook_mode, plot, iplot\n",
    "init_notebook_mode(connected=True)\n",
    "plotly.tools.set_credentials_file(username='raunakm90', api_key='qh9wd16d6g')\n",
    "\n",
    "import plot_network\n",
    "import plotly.plotly as py\n",
    "from plotly.graph_objs import *\n",
    "#sns.set_context(\"poster\")\n",
    "\n",
    "from fuzzywuzzy import fuzz\n",
    "from fuzzywuzzy import process"
   ]
  },
  {
   "cell_type": "markdown",
   "metadata": {},
   "source": [
    "## Import data from SQL"
   ]
  },
  {
   "cell_type": "code",
   "execution_count": 3,
   "metadata": {
    "collapsed": false
   },
   "outputs": [],
   "source": [
    "import mysql_setup\n",
    "query_list,field_names = mysql_setup.query_with_fetchmany(\"SELECT * FROM Author\")\n",
    "Author = mysql_setup.make_frame(query_list,field_names)"
   ]
  },
  {
   "cell_type": "code",
   "execution_count": 4,
   "metadata": {
    "collapsed": false
   },
   "outputs": [],
   "source": [
    "query_list,field_names = mysql_setup.query_with_fetchmany(\"SELECT * FROM Publishing_Detail\")\n",
    "Publishing_Detail = mysql_setup.make_frame(query_list,field_names)"
   ]
  },
  {
   "cell_type": "markdown",
   "metadata": {},
   "source": [
    "## Get top authors and corresponding publications"
   ]
  },
  {
   "cell_type": "code",
   "execution_count": 5,
   "metadata": {
    "collapsed": false
   },
   "outputs": [
    {
     "data": {
      "text/plain": [
       "{u'JicYPdAAAAAJ': u'Geoffrey Hinton',\n",
       " u'ZpG_cJwAAAAJ': u'Robert Tibshirani',\n",
       " u'vtegaJgAAAAJ': u'vapnik',\n",
       " u'yxUduqMAAAAJ': u'Michael I. Jordan'}"
      ]
     },
     "execution_count": 5,
     "metadata": {},
     "output_type": "execute_result"
    }
   ],
   "source": [
    "ind = Author.Author_Cited_By.sort_values(ascending = False).index\n",
    "# Select top 4 indices\n",
    "ind = ind[0:4]\n",
    "top_Authors = Author[Author.index.isin(ind)]\n",
    "a_dict = top_Authors.set_index('Author_Id')['Author_Name'].to_dict()\n",
    "a_dict"
   ]
  },
  {
   "cell_type": "code",
   "execution_count": 6,
   "metadata": {
    "collapsed": false,
    "scrolled": true
   },
   "outputs": [
    {
     "data": {
      "text/html": [
       "<div>\n",
       "<table border=\"1\" class=\"dataframe\">\n",
       "  <thead>\n",
       "    <tr style=\"text-align: right;\">\n",
       "      <th></th>\n",
       "      <th>Pub_Id</th>\n",
       "      <th>Pub_Title</th>\n",
       "      <th>Pub_Authors</th>\n",
       "      <th>Pub_Publisher</th>\n",
       "      <th>Pub_Journal</th>\n",
       "      <th>Pub_Abstract</th>\n",
       "      <th>Pub_Volume</th>\n",
       "      <th>Pub_Year</th>\n",
       "      <th>Pub_Citedby</th>\n",
       "      <th>Pub_URL</th>\n",
       "      <th>Author_Id</th>\n",
       "    </tr>\n",
       "  </thead>\n",
       "  <tbody>\n",
       "    <tr>\n",
       "      <th>0</th>\n",
       "      <td>JicYPdAAAAAJ:-6RzNnnwWf8C</td>\n",
       "      <td>Pittsburgh, PA 15213</td>\n",
       "      <td>David C Plant,Steven J Now1an,Geoffrey E Hinton</td>\n",
       "      <td>NULL</td>\n",
       "      <td>NULL</td>\n",
       "      <td>7 Abstract Rumelhart, Hinton and Williams [Rum...</td>\n",
       "      <td>NULL</td>\n",
       "      <td>1986</td>\n",
       "      <td>-99</td>\n",
       "      <td>https://www.cs.toronto.edu/~hinton/absps/bptr.pdf</td>\n",
       "      <td>JicYPdAAAAAJ</td>\n",
       "    </tr>\n",
       "    <tr>\n",
       "      <th>1</th>\n",
       "      <td>JicYPdAAAAAJ:-7ulzOJl1JYC</td>\n",
       "      <td>Error Propagation</td>\n",
       "      <td>DE Rummelhart,GE Hinton,RJ Williams Learning I...</td>\n",
       "      <td>NULL</td>\n",
       "      <td>Parallel Distributed Processing</td>\n",
       "      <td>NULL</td>\n",
       "      <td>NULL</td>\n",
       "      <td>-99</td>\n",
       "      <td>20</td>\n",
       "      <td>http://scholar.google.com/scholar?cluster=1578...</td>\n",
       "      <td>JicYPdAAAAAJ</td>\n",
       "    </tr>\n",
       "    <tr>\n",
       "      <th>2</th>\n",
       "      <td>JicYPdAAAAAJ:-DxkuPiZhfEC</td>\n",
       "      <td>WJ CLANCEY</td>\n",
       "      <td>S AMAREL,Y ANZAI,HG BARROW,H BERLINER,RS BOYER...</td>\n",
       "      <td>NULL</td>\n",
       "      <td>NULL</td>\n",
       "      <td>NULL</td>\n",
       "      <td>NULL</td>\n",
       "      <td>-99</td>\n",
       "      <td>-99</td>\n",
       "      <td>http://scholar.google.com/scholar?cluster=6697...</td>\n",
       "      <td>JicYPdAAAAAJ</td>\n",
       "    </tr>\n",
       "    <tr>\n",
       "      <th>3</th>\n",
       "      <td>JicYPdAAAAAJ:-f6ydRqryjwC</td>\n",
       "      <td>Learning translation invariant recognition in ...</td>\n",
       "      <td>Geoffrey E Hinton</td>\n",
       "      <td>Springer Berlin Heidelberg</td>\n",
       "      <td>NULL</td>\n",
       "      <td>One major goal of research on massively parall...</td>\n",
       "      <td>NULL</td>\n",
       "      <td>1987</td>\n",
       "      <td>177</td>\n",
       "      <td>http://link.springer.com/chapter/10.1007/3-540...</td>\n",
       "      <td>JicYPdAAAAAJ</td>\n",
       "    </tr>\n",
       "    <tr>\n",
       "      <th>4</th>\n",
       "      <td>JicYPdAAAAAJ:-mN3Mh-tlDkC</td>\n",
       "      <td>E ‘-Jgjfssl ‘-y Cw. 117-tae.\\, I987./ttttttttt...</td>\n",
       "      <td>Geoffrey E Hinton,David C Plaut</td>\n",
       "      <td>NULL</td>\n",
       "      <td>NULL</td>\n",
       "      <td>\\ Abstract _ Connectionist models usually have...</td>\n",
       "      <td>NULL</td>\n",
       "      <td>-99</td>\n",
       "      <td>-99</td>\n",
       "      <td>https://www.cnbc.pitt.edu/~plaut/papers/pdf/Hi...</td>\n",
       "      <td>JicYPdAAAAAJ</td>\n",
       "    </tr>\n",
       "  </tbody>\n",
       "</table>\n",
       "</div>"
      ],
      "text/plain": [
       "                      Pub_Id                                          Pub_Title                                        Pub_Authors               Pub_Publisher                      Pub_Journal                                       Pub_Abstract Pub_Volume  Pub_Year  Pub_Citedby                                            Pub_URL     Author_Id\n",
       "0  JicYPdAAAAAJ:-6RzNnnwWf8C                               Pittsburgh, PA 15213    David C Plant,Steven J Now1an,Geoffrey E Hinton                        NULL                             NULL  7 Abstract Rumelhart, Hinton and Williams [Rum...       NULL      1986          -99  https://www.cs.toronto.edu/~hinton/absps/bptr.pdf  JicYPdAAAAAJ\n",
       "1  JicYPdAAAAAJ:-7ulzOJl1JYC                                  Error Propagation  DE Rummelhart,GE Hinton,RJ Williams Learning I...                        NULL  Parallel Distributed Processing                                               NULL       NULL       -99           20  http://scholar.google.com/scholar?cluster=1578...  JicYPdAAAAAJ\n",
       "2  JicYPdAAAAAJ:-DxkuPiZhfEC                                         WJ CLANCEY  S AMAREL,Y ANZAI,HG BARROW,H BERLINER,RS BOYER...                        NULL                             NULL                                               NULL       NULL       -99          -99  http://scholar.google.com/scholar?cluster=6697...  JicYPdAAAAAJ\n",
       "3  JicYPdAAAAAJ:-f6ydRqryjwC  Learning translation invariant recognition in ...                                  Geoffrey E Hinton  Springer Berlin Heidelberg                             NULL  One major goal of research on massively parall...       NULL      1987          177  http://link.springer.com/chapter/10.1007/3-540...  JicYPdAAAAAJ\n",
       "4  JicYPdAAAAAJ:-mN3Mh-tlDkC  E ‘-Jgjfssl ‘-y Cw. 117-tae.\\, I987./ttttttttt...                    Geoffrey E Hinton,David C Plaut                        NULL                             NULL  \\ Abstract _ Connectionist models usually have...       NULL       -99          -99  https://www.cnbc.pitt.edu/~plaut/papers/pdf/Hi...  JicYPdAAAAAJ"
      ]
     },
     "execution_count": 6,
     "metadata": {},
     "output_type": "execute_result"
    }
   ],
   "source": [
    "#Get the publications of the required authors\n",
    "a_id = a_dict.keys()\n",
    "DB_NAME = 'NLP_Project'\n",
    "in_p=', '.join(list(map(lambda x: '%s', a_id)))\n",
    "sql = (\"SELECT * FROM publishing_Detail WHERE Author_Id in (%s)\")\n",
    "sql = sql % in_p\n",
    "query_list = list()\n",
    "cnx = mysql.connector.connect(user='root',password = \"raunak\")\n",
    "cursor = cnx.cursor()\n",
    "cnx.database = DB_NAME\n",
    "cursor.execute(sql,a_id)\n",
    "\n",
    "for row in iter(cursor):\n",
    "        query_list.append(row)\n",
    "        num_fields = len(cursor.description)\n",
    "        field_names = [i[0] for i in cursor.description]\n",
    "        field_names\n",
    "        \n",
    "cursor.close()\n",
    "cnx.close()\n",
    "Author_Pubs = mysql_setup.make_frame(query_list,field_names)\n",
    "Author_Pubs.head()"
   ]
  },
  {
   "cell_type": "markdown",
   "metadata": {},
   "source": [
    "## Function to handle strings"
   ]
  },
  {
   "cell_type": "code",
   "execution_count": 7,
   "metadata": {
    "collapsed": true
   },
   "outputs": [],
   "source": [
    "import string\n",
    "exclude = set(string.punctuation)\n",
    "\n",
    "def handle_strings(x):\n",
    "    \"\"\"\n",
    "    Helper function to make string all lower and remove punctuation.\n",
    "    \n",
    "    x: any string\n",
    "    \"\"\"\n",
    "    x = x.lower()\n",
    "    x = ''.join(ch for ch in x if ch not in exclude)\n",
    "    return x"
   ]
  },
  {
   "cell_type": "markdown",
   "metadata": {},
   "source": [
    "## How many times have the top authors cited each other?"
   ]
  },
  {
   "cell_type": "markdown",
   "metadata": {},
   "source": [
    "The table is arranged in the following manner - Row cites the column"
   ]
  },
  {
   "cell_type": "code",
   "execution_count": 8,
   "metadata": {
    "collapsed": false
   },
   "outputs": [
    {
     "name": "stdout",
     "output_type": "stream",
     "text": [
      "                   Robert Tibshirani  vapnik  Geoffrey Hinton  Michael I. Jordan\n",
      "Robert Tibshirani                0.0     0.0              9.0                1.0\n",
      "vapnik                           0.0     0.0              0.0                1.0\n",
      "Geoffrey Hinton                 10.0     0.0              0.0                5.0\n",
      "Michael I. Jordan                2.0     2.0              5.0                0.0\n",
      "                   Robert Tibshirani    vapnik  Geoffrey Hinton  Michael I. Jordan\n",
      "Robert Tibshirani           0.000000  0.000000         1.764706           0.127389\n",
      "vapnik                      0.000000  0.000000         0.000000           0.127389\n",
      "Geoffrey Hinton             1.312336  0.000000         0.000000           0.636943\n",
      "Michael I. Jordan           0.262467  0.231214         0.980392           0.000000\n"
     ]
    },
    {
     "data": {
      "text/html": [
       "<div id=\"a90d7214-55bb-4df0-b2a3-fd0018624a19\" style=\"height: 500px; width: 1000px;\" class=\"plotly-graph-div\"></div><script type=\"text/javascript\">require([\"plotly\"], function(Plotly) { window.PLOTLYENV=window.PLOTLYENV || {};window.PLOTLYENV.BASE_URL=\"https://plot.ly\";Plotly.newPlot(\"a90d7214-55bb-4df0-b2a3-fd0018624a19\", [{\"text\": [], \"mode\": \"lines\", \"hoverinfo\": \"text\", \"y\": [0.0, 1.2246467991473532e-16, null, 0.0, -1.0, null, 1.0, -1.0, null, 1.2246467991473532e-16, -1.0, null], \"x\": [1.0, -1.0, null, 1.0, -1.8369701987210297e-16, null, 6.123233995736766e-17, -1.8369701987210297e-16, null, -1.0, -1.8369701987210297e-16, null], \"line\": {\"color\": \"#888\", \"width\": [10.5, 2.5, 2.5, 5.5]}, \"type\": \"scatter\"}, {\"opacity\": 1, \"name\": \"\", \"text\": [\"Robert Tibshirani\", \"vapnik\", \"Geoffrey Hinton\", \"Michael I. Jordan\"], \"marker\": {\"reversescale\": true, \"colorscale\": \"Jet\", \"color\": [2, 1, 2, 3], \"colorbar\": {\"thickness\": 15, \"xanchor\": \"left\", \"titleside\": \"right\", \"title\": \"Node Connections\"}, \"showscale\": true, \"line\": {\"width\": 2}, \"size\": [12, 11, 12, 13]}, \"mode\": \"markers\", \"hoverinfo\": \"text\", \"y\": [0.0, 1.0, 1.2246467991473532e-16, -1.0], \"x\": [1.0, 6.123233995736766e-17, -1.0, -1.8369701987210297e-16], \"type\": \"scatter\"}], {\"showlegend\": false, \"yaxis\": {\"zeroline\": false, \"showticklabels\": false, \"showgrid\": false}, \"title\": \"<br>Network Graph - Top Authors\", \"height\": 500, \"width\": 1000, \"titlefont\": {\"size\": 18}, \"xaxis\": {\"zeroline\": false, \"showticklabels\": false, \"showgrid\": false}, \"hovermode\": \"closest\", \"margin\": {\"r\": 5, \"b\": 20, \"t\": 40, \"l\": 5}}, {\"linkText\": \"Export to plot.ly\", \"showLink\": true})});</script>"
      ],
      "text/plain": [
       "<IPython.core.display.HTML object>"
      ]
     },
     "metadata": {},
     "output_type": "display_data"
    }
   ],
   "source": [
    "adj_mat = pd.DataFrame(0.0, index=a_dict.values(), columns=a_dict.values())\n",
    "prob = pd.DataFrame(0.0, index=a_dict.values(), columns=a_dict.values())\n",
    "for key in a_dict.iterkeys():\n",
    "    x = Author_Pubs[Author_Pubs['Author_Id'] == key]\n",
    "    n = len(x)\n",
    "    a = a_dict[key]\n",
    "    Pub_Authors = x['Pub_Authors'].tolist()\n",
    "    Pub_Authors = \",\".join(unicode(i) for i in Pub_Authors if not i.isdigit())\n",
    "    Pub_Authors = Pub_Authors.split(\",\")\n",
    "    for value in a_dict.itervalues():\n",
    "        if value!=a:\n",
    "            #m = [s for s in Pub_Authors if handle_strings(value) in handle_strings(s)]\n",
    "            m = [s for s in Pub_Authors if fuzz.partial_ratio(handle_strings(value),handle_strings(s))>85]\n",
    "            adj_mat[a][value] = len(m) + adj_mat[a][value]\n",
    "            prob[a][value] = len(m)*100/n\n",
    "print (adj_mat)\n",
    "print (prob)\n",
    "\n",
    "Gr=nx.from_numpy_matrix(adj_mat.values)\n",
    "\n",
    "position=nx.circular_layout(Gr)\n",
    "labels = list(adj_mat.columns.values)\n",
    "\n",
    "traceE=plot_network.scatter_edges(Gr, position)\n",
    "traceN=plot_network.scatter_nodes(Gr,position,labels = labels,size_flag = 1)\n",
    "\n",
    "fig = Figure(data=Data([traceE, traceN]),\n",
    "             layout=Layout(\n",
    "                title='<br>Network Graph - Top Authors',\n",
    "                titlefont=dict(size=18),\n",
    "                showlegend=False, \n",
    "                width=1000,\n",
    "                height=500,\n",
    "                margin=dict(b=20,l=5,r=5,t=40),\n",
    "                hovermode='closest',\n",
    "                xaxis=XAxis(showgrid=False, zeroline=False, showticklabels=False),\n",
    "                yaxis=YAxis(showgrid=False, zeroline=False, showticklabels=False)))\n",
    "\n",
    "#py.iplot(fig, filename='Top Authors')\n",
    "\n",
    "iplot(fig)"
   ]
  },
  {
   "cell_type": "code",
   "execution_count": 9,
   "metadata": {
    "collapsed": false
   },
   "outputs": [
    {
     "data": {
      "text/plain": [
       "<matplotlib.text.Text at 0xedad8d0>"
      ]
     },
     "execution_count": 9,
     "metadata": {},
     "output_type": "execute_result"
    },
    {
     "data": {
      "image/png": "[encoded data removed]",
      "text/plain": [
       "<matplotlib.figure.Figure at 0xec45fd0>"
      ]
     },
     "metadata": {},
     "output_type": "display_data"
    }
   ],
   "source": [
    "# Create a figure of given size\n",
    "fig = plt.figure(figsize=(15,12))\n",
    "# Add a subplot\n",
    "ax = fig.add_subplot(111)\n",
    "\n",
    "prob.plot(kind = 'bar',ax=ax,title = \"Top Authors citing each other\")\n",
    "\n",
    "# Remove grid lines (dotted lines inside plot)\n",
    "ax.grid(False)\n",
    "# Remove plot frame\n",
    "ax.set_frame_on(False)\n",
    "ax.set_title(ax.get_title(),fontsize=26)\n",
    "\n",
    "ax.set_xlabel(\"Authors\",fontsize = 14)\n",
    "xticks = [item.get_text() for item in ax.get_xticklabels()]\n",
    "ax.set_xticklabels(xticks,fontsize = 14)\n",
    "\n",
    "ax.set_ylabel(\"Probability of citing others (in %)\",fontsize =14)\n",
    "#yticks = [item.get_yticklabels() for item in ax.get_yticklabels()]\n",
    "#ax.yaxis.set_ticks(yticks)\n",
    "#ax.set_yticklabels(yticks,fontsize = 14)\n",
    "#yticks = [0,1,2,3,4]\n",
    "#ax.yaxis.set_ticks(yticks)\n",
    "#ax.set_yticklabels(yticks, fontsize=16)"
   ]
  },
  {
   "cell_type": "markdown",
   "metadata": {},
   "source": [
    "## How are the authors in the database connected to each other?"
   ]
  },
  {
   "cell_type": "code",
   "execution_count": 10,
   "metadata": {
    "collapsed": false
   },
   "outputs": [],
   "source": [
    "ind = Author.Author_Cited_By.sort_values(ascending = False).index\n",
    "top_Authors = Author[Author.index.isin(ind)]\n",
    "a_dict = top_Authors.set_index('Author_Id')['Author_Name'].to_dict()"
   ]
  },
  {
   "cell_type": "markdown",
   "metadata": {},
   "source": [
    "### Exact Matching of strings"
   ]
  },
  {
   "cell_type": "code",
   "execution_count": 11,
   "metadata": {
    "collapsed": false
   },
   "outputs": [
    {
     "data": {
      "text/html": [
       "<div id=\"0f552d4c-55b2-4b91-b08b-a59bf8b61175\" style=\"height: 750px; width: 750px;\" class=\"plotly-graph-div\"></div><script type=\"text/javascript\">require([\"plotly\"], function(Plotly) { window.PLOTLYENV=window.PLOTLYENV || {};window.PLOTLYENV.BASE_URL=\"https://plot.ly\";Plotly.newPlot(\"0f552d4c-55b2-4b91-b08b-a59bf8b61175\", [{\"text\": [], \"mode\": \"lines\", \"hoverinfo\": \"text\", \"y\": [0.0, 0.8878852184023752, null, 0.0, 0.9790840876823228, null, 0.0, 0.9422609221188205, null, 0.0, 0.8169698930104421, null, 0.0, -0.816969893010442, null, 0.0, -0.5195839500354336, null, 0.2697967711570243, 0.730835964278124, null, 0.2697967711570243, -0.7308359642781246, null, 0.730835964278124, 0.9422609221188205, null, 0.730835964278124, 0.631087944326053, null, 0.730835964278124, -0.1361666490962464, null, 0.730835964278124, -0.7308359642781246, null, 0.730835964278124, -0.2697967711570244, null, 0.8878852184023752, 0.8169698930104421, null, 0.8878852184023752, 0.9790840876823228, null, 0.9790840876823228, 0.9422609221188205, null, 0.9790840876823228, 0.8169698930104421, null, 0.9790840876823228, -0.1361666490962464, null, 0.9790840876823228, -0.816969893010442, null, 0.9976687691905392, -0.9976687691905392, null, 0.9422609221188205, 0.631087944326053, null, 0.9422609221188205, -0.1361666490962464, null, 0.9422609221188205, -0.7308359642781246, null, 0.9422609221188205, -0.5195839500354336, null, 0.8169698930104421, -0.8878852184023756, null, 0.8169698930104421, -0.816969893010442, null, 0.631087944326053, -0.1361666490962464, null, 0.631087944326053, -0.5195839500354336, null, 0.13616664909624665, -0.5195839500354336, null, 0.13616664909624665, -0.2697967711570244, null, -0.1361666490962464, -0.6310879443260528, null, -0.1361666490962464, -0.5195839500354336, null, -0.6310879443260528, -0.5195839500354336, null, -0.7308359642781246, -0.5195839500354336, null], \"x\": [1.0, 0.4600650377311522, null, 1.0, 0.20345601305263397, null, 1.0, -0.33487961217098616, null, 1.0, -0.5766803221148671, null, 1.0, -0.5766803221148672, null, 1.0, 0.8544194045464886, null, 0.9629172873477994, 0.6825531432186541, null, 0.9629172873477994, 0.6825531432186536, null, 0.6825531432186541, -0.33487961217098616, null, 0.6825531432186541, -0.7757112907044197, null, 0.6825531432186541, -0.9906859460363308, null, 0.6825531432186541, 0.6825531432186536, null, 0.6825531432186541, 0.9629172873477992, null, 0.4600650377311522, -0.5766803221148671, null, 0.4600650377311522, 0.20345601305263397, null, 0.20345601305263397, -0.33487961217098616, null, 0.20345601305263397, -0.5766803221148671, null, 0.20345601305263397, -0.9906859460363308, null, 0.20345601305263397, -0.5766803221148672, null, -0.06824241336467088, -0.06824241336467135, null, -0.33487961217098616, -0.7757112907044197, null, -0.33487961217098616, -0.9906859460363308, null, -0.33487961217098616, 0.6825531432186536, null, -0.33487961217098616, 0.8544194045464886, null, -0.5766803221148671, 0.4600650377311516, null, -0.5766803221148671, -0.5766803221148672, null, -0.7757112907044197, -0.9906859460363308, null, -0.7757112907044197, 0.8544194045464886, null, -0.9906859460363308, 0.8544194045464886, null, -0.9906859460363308, 0.9629172873477992, null, -0.9906859460363308, -0.7757112907044198, null, -0.9906859460363308, 0.8544194045464886, null, -0.7757112907044198, 0.8544194045464886, null, 0.6825531432186536, 0.8544194045464886, null], \"line\": {\"color\": \"#888\", \"width\": [0.5210526315789473, 0.7, 0.5105263157894737, 0.5631578947368421, 0.5140845070422535, 0.5105263157894737, 0.5013123359580053, 0.5039370078740157, 0.5012738853503185, 0.5012738853503185, 0.5012738853503185, 0.5012738853503185, 0.5038216560509554, 0.5769230769230769, 0.5769230769230769, 0.5051413881748072, 0.5411311053984575, 0.5011560693641619, 0.5211267605633803, 0.5408163265306123, 0.5306122448979592, 0.5280612244897959, 0.5076530612244898, 0.5051020408163265, 0.5277777777777778, 0.5211267605633803, 0.6209677419354839, 0.532258064516129, 0.5042194092827004, 0.5113636363636364, 0.5069364161849711, 0.5208092485549133, 0.5031055900621118, 0.5019607843137255]}, \"type\": \"scatter\"}, {\"opacity\": 1, \"name\": \"\", \"text\": [\"Cheng Soon Ong\", \"Robert Tibshirani\", \"David Lopez Mateos\", \"Michael I. Jordan\", \"Florent Haiss\", \"Joachim M. Buhmann\", \"Monnie McGee\", \"Yann LeCun\", \"Kay H. Brodersen\", \"Corinna Cortes\", \"Hon Keung Tony Ng\", \"Michael Collins\", \"vapnik\", \"Patrick E Brown\", \"Sayan Mukherjee\", \"Alex Leff\", \"Jonathan Hays\", \"Michael Hahsler\", \"Kalyanmoy Deb\", \"Lars Kasper\", \"Geoffrey Hinton\", \"Jason Weston\", \"Daphne Koller\"], \"marker\": {\"reversescale\": true, \"colorscale\": \"Jet\", \"color\": [6, 2, 0, 6, 3, 6, 1, 7, 5, 4, 0, 2, 6, 0, 2, 3, 0, 1, 0, 1, 4, 7, 2], \"colorbar\": {\"thickness\": 15, \"xanchor\": \"left\", \"titleside\": \"right\", \"title\": \"Node Connections\"}, \"showscale\": true, \"line\": {\"width\": 2}, \"size\": [16, 12, 10, 16, 13, 16, 11, 17, 15, 14, 10, 12, 16, 10, 12, 13, 10, 11, 10, 11, 14, 17, 12]}, \"mode\": \"markers\", \"hoverinfo\": \"text\", \"y\": [0.0, 0.2697967711570243, 0.5195839500354336, 0.730835964278124, 0.8878852184023752, 0.9790840876823228, 0.9976687691905392, 0.9422609221188205, 0.8169698930104421, 0.631087944326053, 0.3984010898462418, 0.13616664909624665, -0.1361666490962464, -0.3984010898462412, -0.6310879443260528, -0.816969893010442, -0.9422609221188204, -0.9976687691905392, -0.979084087682323, -0.8878852184023756, -0.7308359642781246, -0.5195839500354336, -0.2697967711570244], \"x\": [1.0, 0.9629172873477994, 0.8544194045464886, 0.6825531432186541, 0.4600650377311522, 0.20345601305263397, -0.06824241336467088, -0.33487961217098616, -0.5766803221148671, -0.7757112907044197, -0.9172113015054528, -0.9906859460363308, -0.9906859460363308, -0.9172113015054532, -0.7757112907044198, -0.5766803221148672, -0.3348796121709864, -0.06824241336467135, 0.2034560130526333, 0.4600650377311516, 0.6825531432186536, 0.8544194045464886, 0.9629172873477992], \"type\": \"scatter\"}], {\"showlegend\": false, \"yaxis\": {\"zeroline\": false, \"showticklabels\": false, \"showgrid\": false}, \"title\": \"<br>Network Graph - Author Connections\", \"height\": 750, \"width\": 750, \"titlefont\": {\"size\": 18}, \"xaxis\": {\"zeroline\": false, \"showticklabels\": false, \"showgrid\": false}, \"hovermode\": \"closest\", \"margin\": {\"r\": 5, \"b\": 20, \"t\": 40, \"l\": 5}}, {\"linkText\": \"Export to plot.ly\", \"showLink\": true})});</script>"
      ],
      "text/plain": [
       "<IPython.core.display.HTML object>"
      ]
     },
     "metadata": {},
     "output_type": "display_data"
    }
   ],
   "source": [
    "adj_mat = pd.DataFrame(0.0, index=a_dict.values(), columns=a_dict.values())\n",
    "for key in a_dict.iterkeys():\n",
    "    x = Publishing_Detail[Publishing_Detail['Author_Id'] == key]\n",
    "    n = len(x)\n",
    "    a = a_dict[key]\n",
    "    Pub_Authors = x['Pub_Authors'].tolist()\n",
    "    Pub_Authors = \",\".join(unicode(i) for i in Pub_Authors if not i.isdigit())\n",
    "    Pub_Authors = Pub_Authors.split(\",\")\n",
    "    fname = open(\"./List\"+a,\"wb\")\n",
    "    fname.writelines(Pub_Authors)\n",
    "    fname.close()\n",
    "\n",
    "    for value in a_dict.itervalues():\n",
    "        if value!=a:\n",
    "            m = [s for s in Pub_Authors if handle_strings(value) in handle_strings(s)]\n",
    "            adj_mat[a][value] = len(m)/n\n",
    "\n",
    "pd.DataFrame.to_clipboard(adj_mat)\n",
    "\n",
    "\n",
    "Gr=nx.from_numpy_matrix(adj_mat.values)\n",
    "position=nx.circular_layout(Gr)\n",
    "labels = list(adj_mat.columns.values)\n",
    "\n",
    "traceE=plot_network.scatter_edges(Gr, position)\n",
    "traceN=plot_network.scatter_nodes(Gr,position,labels = labels,size_flag = 1)\n",
    "\n",
    "fig = Figure(data=Data([traceE, traceN]),\n",
    "             layout=Layout(\n",
    "                title='<br>Network Graph - Author Connections',\n",
    "                titlefont=dict(size=18),\n",
    "                showlegend=False, \n",
    "                width=750,\n",
    "                height=750,\n",
    "                margin=dict(b=20,l=5,r=5,t=40),\n",
    "                hovermode='closest',\n",
    "                xaxis=XAxis(showgrid=False, zeroline=False, showticklabels=False),\n",
    "                yaxis=YAxis(showgrid=False, zeroline=False, showticklabels=False)))\n",
    "\n",
    "#py.iplot(fig, filename='Top Authors')\n",
    "\n",
    "iplot(fig)"
   ]
  },
  {
   "cell_type": "markdown",
   "metadata": {},
   "source": [
    "### Visualize the connection strength"
   ]
  },
  {
   "cell_type": "code",
   "execution_count": 12,
   "metadata": {
    "collapsed": false
   },
   "outputs": [
    {
     "data": {
      "text/html": [
       "<iframe id=\"igraph\" scrolling=\"no\" style=\"border:none;\" seamless=\"seamless\" src=\"https://plot.ly/~raunakm90/19.embed\" height=\"1000px\" width=\"1000px\"></iframe>"
      ],
      "text/plain": [
       "<plotly.tools.PlotlyDisplay object>"
      ]
     },
     "execution_count": 12,
     "metadata": {},
     "output_type": "execute_result"
    }
   ],
   "source": [
    "annotations = []\n",
    "row_labels = adj_mat.columns\n",
    "col_labels = adj_mat.columns\n",
    "for n, row in enumerate(adj_mat.values):\n",
    "    for m, val in enumerate(row):\n",
    "        val = adj_mat.values[n][m].round(2)\n",
    "        annotations.append(\n",
    "            dict(\n",
    "                text=str(val),\n",
    "                x=row_labels[m], y=col_labels[n],\n",
    "                xref='Authors', yref='Authors',\n",
    "                font=dict(color='white' if val > 20 else 'black'),\n",
    "                showarrow=False)\n",
    "            )\n",
    "\n",
    "colorscale = [[0, '#3D9970'], [1, '#001f3f']]  # custom colorscale\n",
    "trace = Heatmap(x=row_labels, y=col_labels, z=adj_mat.values.round(2), colorscale = colorscale,showscale=False)\n",
    "\n",
    "fig = Figure(data=[trace])\n",
    "fig['layout'].update(\n",
    "    title=\"Connection Strength\",\n",
    "    annotations=annotations,\n",
    "    xaxis=dict(ticks=''),\n",
    "    # ticksuffix is a workaround to add a bit of padding\n",
    "    yaxis=dict(ticks='', ticksuffix='  '),\n",
    "    width=1000,\n",
    "    height=1000,\n",
    "    autosize=False\n",
    ")\n",
    "py.iplot(fig, filename='Connection Strength', height=1000)"
   ]
  },
  {
   "cell_type": "markdown",
   "metadata": {},
   "source": [
    "### Fuzzy Matching of strings (cut-off ratio set at 90)"
   ]
  },
  {
   "cell_type": "code",
   "execution_count": 18,
   "metadata": {
    "collapsed": false,
    "scrolled": false
   },
   "outputs": [
    {
     "data": {
      "text/html": [
       "<div id=\"b20c858b-ed4c-4723-b15d-e8963d1ae371\" style=\"height: 1000px; width: 1000px;\" class=\"plotly-graph-div\"></div><script type=\"text/javascript\">require([\"plotly\"], function(Plotly) { window.PLOTLYENV=window.PLOTLYENV || {};window.PLOTLYENV.BASE_URL=\"https://plot.ly\";Plotly.newPlot(\"b20c858b-ed4c-4723-b15d-e8963d1ae371\", [{\"text\": [], \"mode\": \"lines\", \"hoverinfo\": \"text\", \"y\": [0.0, 0.8878852184023752, null, 0.0, 0.9790840876823228, null, 0.0, 0.9422609221188205, null, 0.0, 0.8169698930104421, null, 0.0, -0.816969893010442, null, 0.0, -0.5195839500354336, null, 0.2697967711570243, 0.8169698930104421, null, 0.2697967711570243, 0.730835964278124, null, 0.2697967711570243, -0.7308359642781246, null, 0.2697967711570243, -0.3984010898462412, null, 0.5195839500354336, -0.6310879443260528, null, 0.730835964278124, 0.9422609221188205, null, 0.730835964278124, 0.631087944326053, null, 0.730835964278124, -0.1361666490962464, null, 0.730835964278124, -0.7308359642781246, null, 0.730835964278124, -0.2697967711570244, null, 0.8878852184023752, 0.8169698930104421, null, 0.8878852184023752, 0.9790840876823228, null, 0.9790840876823228, 0.9422609221188205, null, 0.9790840876823228, 0.8169698930104421, null, 0.9790840876823228, -0.1361666490962464, null, 0.9790840876823228, -0.816969893010442, null, 0.9976687691905392, -0.9976687691905392, null, 0.9422609221188205, 0.631087944326053, null, 0.9422609221188205, -0.1361666490962464, null, 0.9422609221188205, -0.7308359642781246, null, 0.9422609221188205, -0.5195839500354336, null, 0.8169698930104421, -0.1361666490962464, null, 0.8169698930104421, -0.816969893010442, null, 0.8169698930104421, -0.8878852184023756, null, 0.631087944326053, -0.1361666490962464, null, 0.631087944326053, -0.5195839500354336, null, 0.13616664909624665, -0.5195839500354336, null, 0.13616664909624665, -0.2697967711570244, null, -0.1361666490962464, -0.6310879443260528, null, -0.1361666490962464, -0.5195839500354336, null, -0.3984010898462412, -0.979084087682323, null, -0.6310879443260528, -0.5195839500354336, null, -0.7308359642781246, -0.5195839500354336, null], \"x\": [1.0, 0.4600650377311522, null, 1.0, 0.20345601305263397, null, 1.0, -0.33487961217098616, null, 1.0, -0.5766803221148671, null, 1.0, -0.5766803221148672, null, 1.0, 0.8544194045464886, null, 0.9629172873477994, -0.5766803221148671, null, 0.9629172873477994, 0.6825531432186541, null, 0.9629172873477994, 0.6825531432186536, null, 0.9629172873477994, -0.9172113015054532, null, 0.8544194045464886, -0.7757112907044198, null, 0.6825531432186541, -0.33487961217098616, null, 0.6825531432186541, -0.7757112907044197, null, 0.6825531432186541, -0.9906859460363308, null, 0.6825531432186541, 0.6825531432186536, null, 0.6825531432186541, 0.9629172873477992, null, 0.4600650377311522, -0.5766803221148671, null, 0.4600650377311522, 0.20345601305263397, null, 0.20345601305263397, -0.33487961217098616, null, 0.20345601305263397, -0.5766803221148671, null, 0.20345601305263397, -0.9906859460363308, null, 0.20345601305263397, -0.5766803221148672, null, -0.06824241336467088, -0.06824241336467135, null, -0.33487961217098616, -0.7757112907044197, null, -0.33487961217098616, -0.9906859460363308, null, -0.33487961217098616, 0.6825531432186536, null, -0.33487961217098616, 0.8544194045464886, null, -0.5766803221148671, -0.9906859460363308, null, -0.5766803221148671, -0.5766803221148672, null, -0.5766803221148671, 0.4600650377311516, null, -0.7757112907044197, -0.9906859460363308, null, -0.7757112907044197, 0.8544194045464886, null, -0.9906859460363308, 0.8544194045464886, null, -0.9906859460363308, 0.9629172873477992, null, -0.9906859460363308, -0.7757112907044198, null, -0.9906859460363308, 0.8544194045464886, null, -0.9172113015054532, 0.2034560130526333, null, -0.7757112907044198, 0.8544194045464886, null, 0.6825531432186536, 0.8544194045464886, null], \"line\": {\"color\": \"#888\", \"width\": [0.5210526315789473, 0.7, 0.5105263157894737, 0.5631578947368421, 0.5140845070422535, 0.5105263157894737, 0.5013123359580053, 0.5026246719160105, 0.5039370078740157, 0.5196850393700787, 0.5093167701863354, 0.5012738853503185, 0.5012738853503185, 0.5012738853503185, 0.5012738853503185, 0.5038216560509554, 0.5769230769230769, 0.5769230769230769, 0.5051413881748072, 0.5411311053984575, 0.5011560693641619, 0.5211267605633803, 0.5408163265306123, 0.5331632653061225, 0.5280612244897959, 0.5076530612244898, 0.5051020408163265, 0.5011560693641619, 0.5211267605633803, 0.5277777777777778, 0.6209677419354839, 0.532258064516129, 0.5042194092827004, 0.5113636363636364, 0.5069364161849711, 0.5208092485549133, 0.5011299435028248, 0.5031055900621118, 0.5019607843137255]}, \"type\": \"scatter\"}, {\"opacity\": 1, \"name\": \"\", \"text\": [\"Cheng Soon Ong\", \"Robert Tibshirani\", \"David Lopez Mateos\", \"Michael I. Jordan\", \"Florent Haiss\", \"Joachim M. Buhmann\", \"Monnie McGee\", \"Yann LeCun\", \"Kay H. Brodersen\", \"Corinna Cortes\", \"Hon Keung Tony Ng\", \"Michael Collins\", \"vapnik\", \"Patrick E Brown\", \"Sayan Mukherjee\", \"Alex Leff\", \"Jonathan Hays\", \"Michael Hahsler\", \"Kalyanmoy Deb\", \"Lars Kasper\", \"Geoffrey Hinton\", \"Jason Weston\", \"Daphne Koller\"], \"marker\": {\"reversescale\": true, \"colorscale\": \"Jet\", \"color\": [6, 4, 1, 6, 3, 6, 1, 7, 7, 4, 0, 2, 7, 2, 3, 3, 0, 1, 1, 1, 4, 7, 2], \"colorbar\": {\"thickness\": 15, \"xanchor\": \"left\", \"titleside\": \"right\", \"title\": \"Node Connections\"}, \"showscale\": true, \"line\": {\"width\": 2}, \"size\": [16, 14, 11, 16, 13, 16, 11, 17, 17, 14, 10, 12, 17, 12, 13, 13, 10, 11, 11, 11, 14, 17, 12]}, \"mode\": \"markers\", \"hoverinfo\": \"text\", \"y\": [0.0, 0.2697967711570243, 0.5195839500354336, 0.730835964278124, 0.8878852184023752, 0.9790840876823228, 0.9976687691905392, 0.9422609221188205, 0.8169698930104421, 0.631087944326053, 0.3984010898462418, 0.13616664909624665, -0.1361666490962464, -0.3984010898462412, -0.6310879443260528, -0.816969893010442, -0.9422609221188204, -0.9976687691905392, -0.979084087682323, -0.8878852184023756, -0.7308359642781246, -0.5195839500354336, -0.2697967711570244], \"x\": [1.0, 0.9629172873477994, 0.8544194045464886, 0.6825531432186541, 0.4600650377311522, 0.20345601305263397, -0.06824241336467088, -0.33487961217098616, -0.5766803221148671, -0.7757112907044197, -0.9172113015054528, -0.9906859460363308, -0.9906859460363308, -0.9172113015054532, -0.7757112907044198, -0.5766803221148672, -0.3348796121709864, -0.06824241336467135, 0.2034560130526333, 0.4600650377311516, 0.6825531432186536, 0.8544194045464886, 0.9629172873477992], \"type\": \"scatter\"}], {\"showlegend\": false, \"yaxis\": {\"zeroline\": false, \"showticklabels\": false, \"showgrid\": false}, \"title\": \"<br>Network Graph - Author Connections (Fuzzy Matching)\", \"height\": 1000, \"width\": 1000, \"titlefont\": {\"size\": 18}, \"xaxis\": {\"zeroline\": false, \"showticklabels\": false, \"showgrid\": false}, \"hovermode\": \"closest\", \"margin\": {\"r\": 5, \"b\": 20, \"t\": 40, \"l\": 5}}, {\"linkText\": \"Export to plot.ly\", \"showLink\": true})});</script>"
      ],
      "text/plain": [
       "<IPython.core.display.HTML object>"
      ]
     },
     "metadata": {},
     "output_type": "display_data"
    }
   ],
   "source": [
    "# Fuzzy partial matching of names\n",
    "\n",
    "adj_mat = pd.DataFrame(0.0, index=a_dict.values(), columns=a_dict.values())\n",
    "for key in a_dict.iterkeys():\n",
    "    x = Publishing_Detail[Publishing_Detail['Author_Id'] == key]\n",
    "    n = len(x)\n",
    "    a = a_dict[key]\n",
    "    Pub_Authors = x['Pub_Authors'].tolist()\n",
    "    Pub_Authors = \",\".join(unicode(i) for i in Pub_Authors if not i.isdigit())\n",
    "    \n",
    "    Pub_Authors = Pub_Authors.split(\",\")\n",
    "    fname = open(\"./List\"+a,\"wb\")\n",
    "    fname.writelines(Pub_Authors)\n",
    "    fname.close()\n",
    "    for value in a_dict.itervalues():\n",
    "        if value!=a:\n",
    "            m = [s for s in Pub_Authors if fuzz.partial_ratio(handle_strings(value),handle_strings(s))>90]\n",
    "            adj_mat[a][value] = len(m)/n\n",
    "\n",
    "Gr=nx.from_numpy_matrix(adj_mat.values)\n",
    "position=nx.circular_layout(Gr)\n",
    "labels = list(adj_mat.columns.values)\n",
    "\n",
    "traceE=plot_network.scatter_edges(Gr, position)\n",
    "traceN=plot_network.scatter_nodes(Gr,position,labels = labels,size_flag = 1)\n",
    "\n",
    "fig = Figure(data=Data([traceE, traceN]),\n",
    "             layout=Layout(\n",
    "                title='<br>Network Graph - Author Connections (Fuzzy Matching)',\n",
    "                titlefont=dict(size=18),\n",
    "                showlegend=False, \n",
    "                width=1000,\n",
    "                height=1000,\n",
    "                margin=dict(b=20,l=5,r=5,t=40),\n",
    "                hovermode='closest',\n",
    "                xaxis=XAxis(showgrid=False, zeroline=False, showticklabels=False),\n",
    "                yaxis=YAxis(showgrid=False, zeroline=False, showticklabels=False)))\n",
    "\n",
    "#py.iplot(fig, filename='Top Authors')\n",
    "\n",
    "iplot(fig)"
   ]
  },
  {
   "cell_type": "markdown",
   "metadata": {},
   "source": [
    "### Visualize the adjacency matrix"
   ]
  },
  {
   "cell_type": "code",
   "execution_count": 19,
   "metadata": {
    "collapsed": false
   },
   "outputs": [
    {
     "data": {
      "text/html": [
       "<iframe id=\"igraph\" scrolling=\"no\" style=\"border:none;\" seamless=\"seamless\" src=\"https://plot.ly/~raunakm90/19.embed\" height=\"1000px\" width=\"1000px\"></iframe>"
      ],
      "text/plain": [
       "<plotly.tools.PlotlyDisplay object>"
      ]
     },
     "execution_count": 19,
     "metadata": {},
     "output_type": "execute_result"
    }
   ],
   "source": [
    "annotations = []\n",
    "row_labels = adj_mat.columns\n",
    "col_labels = adj_mat.columns\n",
    "for n, row in enumerate(adj_mat.values):\n",
    "    for m, val in enumerate(row):\n",
    "        val = adj_mat.values[n][m].round(2)\n",
    "        annotations.append(\n",
    "            dict(\n",
    "                text=str(val),\n",
    "                x=row_labels[m], y=col_labels[n],\n",
    "                xref='Authors', yref='Authors',\n",
    "                font=dict(color='white' if val > 20 else 'black'),\n",
    "                showarrow=False)\n",
    "            )\n",
    "\n",
    "colorscale = [[0, '#3D9970'], [1, '#001f3f']]  # custom colorscale\n",
    "trace = Heatmap(x=row_labels, y=col_labels, z=adj_mat.values.round(2), colorscale = colorscale,showscale=False)\n",
    "\n",
    "fig = Figure(data=[trace])\n",
    "fig['layout'].update(\n",
    "    title=\"Connection Strength\",\n",
    "    annotations=annotations,\n",
    "    xaxis=dict(ticks=''),\n",
    "    # ticksuffix is a workaround to add a bit of padding\n",
    "    yaxis=dict(ticks='', ticksuffix='  '),\n",
    "    width=1000,\n",
    "    height=1000,\n",
    "    autosize=False\n",
    ")\n",
    "py.iplot(fig, filename='Connection Strength', height=1000)"
   ]
  },
  {
   "cell_type": "code",
   "execution_count": null,
   "metadata": {
    "collapsed": true
   },
   "outputs": [],
   "source": []
  }
 ],
 "metadata": {
  "kernelspec": {
   "display_name": "Python 2",
   "language": "python",
   "name": "python2"
  },
  "language_info": {
   "codemirror_mode": {
    "name": "ipython",
    "version": 2
   },
   "file_extension": ".py",
   "mimetype": "text/x-python",
   "name": "python",
   "nbconvert_exporter": "python",
   "pygments_lexer": "ipython2",
   "version": "2.7.11"
  }
 },
 "nbformat": 4,
 "nbformat_minor": 0
}
